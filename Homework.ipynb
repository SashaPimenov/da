{
 "cells": [
  {
   "cell_type": "code",
   "execution_count": 8,
   "metadata": {
    "collapsed": true
   },
   "outputs": [],
   "source": [
    "import pandas as pd\n",
    "works = pd.read_csv('works.csv')"
   ]
  },
  {
   "cell_type": "code",
   "execution_count": 9,
   "outputs": [],
   "source": [
    "worksnew = works[works['jobTitle'].notna()]\n",
    "works = worksnew[worksnew['qualification'].notna()]"
   ],
   "metadata": {
    "collapsed": false,
    "pycharm": {
     "name": "#%% подготовка данных\n"
    }
   }
  },
  {
   "cell_type": "code",
   "execution_count": 10,
   "outputs": [
    {
     "data": {
      "text/plain": "10130"
     },
     "execution_count": 10,
     "metadata": {},
     "output_type": "execute_result"
    }
   ],
   "source": [
    "works.shape[0]"
   ],
   "metadata": {
    "collapsed": false,
    "pycharm": {
     "name": "#%% количество с профессией\n"
    }
   }
  },
  {
   "cell_type": "code",
   "execution_count": 11,
   "outputs": [],
   "source": [
    "def compare(profession, other):\n",
    "    for i in profession.lower().replace('-', ' ').split():\n",
    "        if i in other.lower():\n",
    "            return True\n",
    "    return False"
   ],
   "metadata": {
    "collapsed": false,
    "pycharm": {
     "name": "#%% сравнивает входит ли одно слово в другое\n"
    }
   }
  },
  {
   "cell_type": "code",
   "execution_count": 12,
   "outputs": [
    {
     "data": {
      "text/plain": "7714"
     },
     "execution_count": 12,
     "metadata": {},
     "output_type": "execute_result"
    }
   ],
   "source": [
    "answer = 0\n",
    "for (job, qualification) in zip(works[\"jobTitle\"], works[\"qualification\"]):\n",
    "    if not compare(job, qualification) and not compare(qualification, job):\n",
    "        answer += 1\n",
    "answer"
   ],
   "metadata": {
    "collapsed": false,
    "pycharm": {
     "name": "#%% количество у кого не совпадает профессия и должность\n"
    }
   }
  },
  {
   "cell_type": "code",
   "execution_count": 13,
   "outputs": [
    {
     "data": {
      "text/plain": "бакалавр     96\nэкономист    85\nменеджер     79\nюрист        41\nинженер      37\nName: qualification, dtype: int64"
     },
     "execution_count": 13,
     "metadata": {},
     "output_type": "execute_result"
    }
   ],
   "source": [
    "worksjob = works[works[\"jobTitle\"].str.lower().str.contains(\"менеджер\")]\n",
    "worksjob[\"qualification\"].str.lower().value_counts().head(5)"
   ],
   "metadata": {
    "collapsed": false,
    "pycharm": {
     "name": "#%% Люди с каким образованием становятся менеджерами (топ-5)\n"
    }
   }
  },
  {
   "cell_type": "code",
   "execution_count": 14,
   "outputs": [
    {
     "data": {
      "text/plain": "инженер            25\nглавный инженер    23\nдиректор           21\nменеджер           13\nводитель           11\nName: jobTitle, dtype: int64"
     },
     "execution_count": 14,
     "metadata": {},
     "output_type": "execute_result"
    }
   ],
   "source": [
    "worksjob = works[works[\"qualification\"].str.lower().str.contains(\"инженер\")]\n",
    "worksjob[\"jobTitle\"].str.lower().value_counts().head(5)"
   ],
   "metadata": {
    "collapsed": false,
    "pycharm": {
     "name": "#%% Кем работают люди, которые по диплому являются инженерами (топ-5)\n"
    }
   }
  }
 ],
 "metadata": {
  "kernelspec": {
   "display_name": "Python 3",
   "language": "python",
   "name": "python3"
  },
  "language_info": {
   "codemirror_mode": {
    "name": "ipython",
    "version": 2
   },
   "file_extension": ".py",
   "mimetype": "text/x-python",
   "name": "python",
   "nbconvert_exporter": "python",
   "pygments_lexer": "ipython2",
   "version": "2.7.6"
  }
 },
 "nbformat": 4,
 "nbformat_minor": 0
}